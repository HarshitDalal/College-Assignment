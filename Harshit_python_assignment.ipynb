{
  "nbformat": 4,
  "nbformat_minor": 0,
  "metadata": {
    "colab": {
      "name": "Harshit python assignment.ipynb",
      "provenance": [],
      "collapsed_sections": [],
      "include_colab_link": true
    },
    "kernelspec": {
      "name": "python3",
      "display_name": "Python 3"
    },
    "language_info": {
      "name": "python"
    }
  },
  "cells": [
    {
      "cell_type": "markdown",
      "metadata": {
        "id": "view-in-github",
        "colab_type": "text"
      },
      "source": [
        "<a href=\"https://colab.research.google.com/github/HarshitDalal/College-Assignment/blob/main/Harshit_python_assignment.ipynb\" target=\"_parent\"><img src=\"https://colab.research.google.com/assets/colab-badge.svg\" alt=\"Open In Colab\"/></a>"
      ]
    },
    {
      "cell_type": "markdown",
      "source": [
        "#Q1. Write a Python program to convert a given integer (in seconds) to hours, minutes  andseconds. \n",
        "**Test Data :** \n",
        "\n",
        "Input seconds: 25300 \n",
        "\n",
        "**Expected Output:** \n",
        "\n",
        "There are:\n",
        "\n",
        "H:M:S - 7:1:40"
      ],
      "metadata": {
        "id": "sd57zj_ApNp3"
      }
    },
    {
      "cell_type": "code",
      "execution_count": null,
      "metadata": {
        "colab": {
          "base_uri": "https://localhost:8080/"
        },
        "id": "DE6xXO3EohEQ",
        "outputId": "9d88ce10-0ced-4a40-95ab-378582ba34c6"
      },
      "outputs": [
        {
          "output_type": "stream",
          "name": "stdout",
          "text": [
            "Input seconds: 25300\n",
            "H:M:S - 7:1:40\n"
          ]
        }
      ],
      "source": [
        "#PROGRAM\n",
        "seconds = int(input(\"Input seconds: \"))\n",
        "\n",
        "seconds %= (24*3600)\n",
        "hours = seconds//3600\n",
        "seconds %= 3600\n",
        "minutes = seconds//60\n",
        "seconds %= 60\n",
        "\n",
        "print(f\"H:M:S - {hours}:{minutes}:{seconds}\")\n",
        "\n",
        "#OUTPUT"
      ]
    },
    {
      "cell_type": "markdown",
      "source": [
        "#Q2. Write a Python program to convert a given integer (in days) to years, months and  days,assumes that all months have 30 days and all years have 365 days.\n",
        "**Test Data :**\n",
        "\n",
        "Input no. of days: 2535\n",
        "\n",
        "**Expected Output:** \n",
        "\n",
        "6 Year(s) \n",
        "\n",
        "11 Month(s) \n",
        "\n",
        "15 Day(s)\n"
      ],
      "metadata": {
        "id": "0kbZBGlQ2n8m"
      }
    },
    {
      "cell_type": "code",
      "source": [
        "#PROGRAM\n",
        "days = int(input(\"Input no. of days:\"))\n",
        "\n",
        "days = days % (12*365)\n",
        "years = days // 365\n",
        "days %= 365\n",
        "months = days//30\n",
        "days %= 30\n",
        "\n",
        "print(f\"{years} Year(s)\\n{months} Month(s)\\n{days} Day(s)\")\n",
        "\n",
        "#OUTPUT"
      ],
      "metadata": {
        "colab": {
          "base_uri": "https://localhost:8080/"
        },
        "id": "cEKEFsi03WFL",
        "outputId": "51fa8d01-9e62-40c8-eb33-f25f5d211d17"
      },
      "execution_count": null,
      "outputs": [
        {
          "output_type": "stream",
          "name": "stdout",
          "text": [
            "Input no. of days:2535\n",
            "6 Year(s)\n",
            "11 Month(s)\n",
            "15 Day(s)\n"
          ]
        }
      ]
    },
    {
      "cell_type": "markdown",
      "source": [
        "#Q3. . Write a Python program that read 5 numbers and sum of all odd values between  them \n",
        "**Test Data :**\n",
        "\n",
        "Input the first number: 11 \n",
        "\n",
        "Input the second number: 17\n",
        "\n",
        "Input the third number: 13 \n",
        "\n",
        "Input the fourth number: 12 \n",
        "\n",
        "Input the fifth number: 5\n",
        "\n",
        "**Expected Output:**\n",
        " \n",
        "Sum of all odd values: 46 \n"
      ],
      "metadata": {
        "id": "ya3d1BkY9tin"
      }
    },
    {
      "cell_type": "code",
      "source": [
        "#PROGRAM\n",
        "first = int(input(\"Input the first number: \"))\n",
        "second = int(input(\"Input the second number: \"))\n",
        "third = int(input(\"Input the third number: \"))\n",
        "fourth = int(input(\"Input the fourth number: \"))\n",
        "fifth = int(input(\"Input the fifth number: \"))\n",
        "sum = 0\n",
        "if((first%2)!=0):\n",
        "  sum += first\n",
        "if((second%2)!=0):\n",
        "  sum += second\n",
        "if((third%2)!=0):\n",
        "  sum += third\n",
        "if((fourth%2)!=0):\n",
        "  sum += fourth\n",
        "if((fifth%2)!=0):\n",
        "  sum += fifth\n",
        "print(\"Sum of all odd values: \",sum)\n",
        "\n",
        "#OUTPUT"
      ],
      "metadata": {
        "colab": {
          "base_uri": "https://localhost:8080/"
        },
        "id": "D4b1TTDu-LDM",
        "outputId": "e5b6c3c4-d413-4f59-effa-ab20ccade626"
      },
      "execution_count": null,
      "outputs": [
        {
          "output_type": "stream",
          "name": "stdout",
          "text": [
            "Input the first number: 11\n",
            "Input the second number: 17\n",
            "Input the third number: 13\n",
            "Input the fourth number: 12\n",
            "Input the fifth number: 5\n",
            "Sum of all odd values:  46\n"
          ]
        }
      ]
    },
    {
      "cell_type": "markdown",
      "source": [
        "#Q4. Write a Python program that reads two integers and checks whether they are  multiplied or not. \n",
        "**Test Data :**\n",
        "\n",
        "Input the first number: 5 \n",
        "\n",
        "Input the second number: 15 \n",
        "\n",
        "**Expected Output:** \n",
        "\n",
        "Multiplied!\n"
      ],
      "metadata": {
        "id": "3hDov_ncAitZ"
      }
    },
    {
      "cell_type": "code",
      "source": [
        "#PROGRAM\n",
        "first = int(input(\"Input the first number: \"))\n",
        "second = int(input(\"Input the second number: \"))\n",
        "if (second%first == 0):\n",
        "  print(\"Multiplied!\")\n",
        "else:\n",
        "  print(\"Not Multiplied!\")\n",
        "\n",
        "#OUTPUT "
      ],
      "metadata": {
        "colab": {
          "base_uri": "https://localhost:8080/"
        },
        "id": "TRP7GFEtA3mf",
        "outputId": "8913f28e-55d9-498d-8bfa-9213ba71ef74"
      },
      "execution_count": null,
      "outputs": [
        {
          "output_type": "stream",
          "name": "stdout",
          "text": [
            "Input the first number: 5\n",
            "Input the second number: 15\n",
            "Multiplied!\n"
          ]
        }
      ]
    },
    {
      "cell_type": "markdown",
      "source": [
        "#Q5. Write a Python program that reads an integer between 1 and 12 and print the  month of the year in English. \n",
        "**Test Data :** \n",
        "\n",
        "Input a number between 1 to 12 to get the month name: 8 \n",
        "\n",
        "**Expected Output:** \n",
        "\n",
        "August \n"
      ],
      "metadata": {
        "id": "FahZa5o1JE4w"
      }
    },
    {
      "cell_type": "code",
      "source": [
        "#PROGRAM\n",
        "from calendar import month_name\n",
        "num = int(input(\"Input a number between 1 to 12 to get the month name: \"))\n",
        "print(month_name[num])\n",
        "\n",
        "#OUTPUT"
      ],
      "metadata": {
        "colab": {
          "base_uri": "https://localhost:8080/"
        },
        "id": "fQbqYjFAJ2Oj",
        "outputId": "7c5bb268-70cb-4b20-9c98-8a2c734f31f6"
      },
      "execution_count": null,
      "outputs": [
        {
          "output_type": "stream",
          "name": "stdout",
          "text": [
            "Input a number between 1 to 12 to get the month name: 8\n",
            "August\n"
          ]
        }
      ]
    },
    {
      "cell_type": "markdown",
      "source": [
        "#Q6. Write a Python program that read 5 numbers and counts the number of positive  numbersand negative numbers. \n",
        "**Test Data :**\n",
        "\n",
        "Input the first number: 5 \n",
        "\n",
        "Input the second number: -4 \n",
        "\n",
        "Input the third number: 10 \n",
        "\n",
        "Input the fourth number: 15 \n",
        "\n",
        "Input the fifth number: -1 \n",
        "\n",
        "**Expected Output:**\n",
        "\n",
        "Number of positive numbers: 3 \n",
        "\n",
        "Number of negative numbers: 2\n"
      ],
      "metadata": {
        "id": "-WAE3VhnOjhh"
      }
    },
    {
      "cell_type": "code",
      "source": [
        "#PROGRAM\n",
        "first = int(input(\"Input the first number: \"))\n",
        "second = int(input(\"Input the second number: \"))\n",
        "third = int(input(\"Input the third number: \"))\n",
        "fourth = int(input(\"Input the fourth number: \"))\n",
        "fifth = int(input(\"Input the fifth number: \"))\n",
        "lst = [first,second,third,fourth,fifth]\n",
        "pos=0\n",
        "neg=0\n",
        "for i in lst:\n",
        "  if i>0:\n",
        "    pos+=1\n",
        "  else:\n",
        "    neg+=1\n",
        "print(\"Number of positive numbers: \",pos)\n",
        "print(\"Number of negative numbers: \",neg)\n",
        "\n",
        "#OUTPUT"
      ],
      "metadata": {
        "colab": {
          "base_uri": "https://localhost:8080/"
        },
        "id": "iMwZF4N7Owlc",
        "outputId": "6b3fee06-0db6-4f0c-be8f-31025bafdcea"
      },
      "execution_count": null,
      "outputs": [
        {
          "output_type": "stream",
          "name": "stdout",
          "text": [
            "Input the first number: 5\n",
            "Input the second number: -4\n",
            "Input the third number: 10\n",
            "Input the fourth number: 15\n",
            "Input the fifth number: -1\n",
            "Number of positive numbers:  3\n",
            "Number of negative numbers:  2\n"
          ]
        }
      ]
    },
    {
      "cell_type": "markdown",
      "source": [
        "#Q7. Write a Python program that read 5 numbers and counts the number of positive  numbersand print the average of all positive values. \n",
        "\n",
        "**Test Data :**\n",
        "\n",
        "Input the first number: 5 \n",
        "\n",
        "Input the second number: 8 \n",
        "\n",
        "Input the third number: 10 \n",
        "\n",
        "Input the fourth number: -5 \n",
        "\n",
        "Input the fifth number: 25 \n",
        "\n",
        "**Expected Output:**\n",
        "\n",
        "Number of positive numbers: 4 \n",
        "\n",
        "Average value of the said positive numbers: 12.00\n"
      ],
      "metadata": {
        "id": "ip1l9VzliQrf"
      }
    },
    {
      "cell_type": "code",
      "source": [
        "#PROGRAM\n",
        "first = int(input(\"Input the first number: \"))\n",
        "second = int(input(\"Input the second number: \"))\n",
        "third = int(input(\"Input the third number: \"))\n",
        "fourth = int(input(\"Input the fourth number: \"))\n",
        "fifth = int(input(\"Input the fifth number: \"))\n",
        "lst = [first,second,third,fourth,fifth]\n",
        "count = 0\n",
        "sum = 0\n",
        "for index,value in enumerate(lst):\n",
        "  if value>=0:\n",
        "    count+=1\n",
        "    sum +=value\n",
        "print(\"Number of positive numbers: \",count)\n",
        "avg = sum/count\n",
        "print(\"Average value of the side positive numbers: {:.2f}\".format(avg))\n",
        "\n",
        "#OUTPUT"
      ],
      "metadata": {
        "colab": {
          "base_uri": "https://localhost:8080/"
        },
        "id": "iZaqMv-mlUCo",
        "outputId": "329f16a1-ee36-4869-f907-24137f8b7f20"
      },
      "execution_count": null,
      "outputs": [
        {
          "output_type": "stream",
          "name": "stdout",
          "text": [
            "Input the first number: 5\n",
            "Input the second number: 8\n",
            "Input the third number: 10\n",
            "Input the fourth number: -5\n",
            "Input the fifth number: 25\n",
            "Number of positive numbers:  4\n",
            "Average value of the side positive numbers: 12.00\n"
          ]
        }
      ]
    },
    {
      "cell_type": "markdown",
      "source": [
        "#Q8. Write a Python program that read 5 numbers and sum of all odd values  betweenthem. \n",
        "**Test Data :**\n",
        "\n",
        "Input the first number: 5 \n",
        "\n",
        "Input the second number: 7 \n",
        "\n",
        "Input the third number: 9 \n",
        "\n",
        "Input the fourth number: 10 \n",
        "\n",
        "Input the fifth number: 13 \n",
        "\n",
        "**Expected Output:**\n",
        " \n",
        "Sum of all odd values: 34 \n"
      ],
      "metadata": {
        "id": "l4RL21DhI6jH"
      }
    },
    {
      "cell_type": "code",
      "source": [
        "#PROGRAM\n",
        "first = int(input(\"Input the first number: \"))\n",
        "second = int(input(\"Input the second number: \"))\n",
        "third = int(input(\"Input the third number: \"))\n",
        "fourth = int(input(\"Input the fourth number: \"))\n",
        "fifth = int(input(\"Input the fifth number: \"))\n",
        "lst = [first,second,third,fourth,fifth]\n",
        "odd = 0\n",
        "for indes,value in enumerate(lst):\n",
        "  if value%2!=0:\n",
        "    odd +=value\n",
        "print(\"Sum of all odd values: \",odd)\n",
        "\n",
        "#OUTPUT"
      ],
      "metadata": {
        "colab": {
          "base_uri": "https://localhost:8080/"
        },
        "id": "AfPGaz08JWQn",
        "outputId": "2d53a96b-35a5-4dc1-add0-4b2eac66a0b5"
      },
      "execution_count": null,
      "outputs": [
        {
          "output_type": "stream",
          "name": "stdout",
          "text": [
            "Input the first number: 5\n",
            "Input the second number: 7\n",
            "Input the third number: 9\n",
            "Input the fourth number: 10\n",
            "Input the fifth number: 13\n",
            "Sum of all odd values:  34\n"
          ]
        }
      ]
    },
    {
      "cell_type": "markdown",
      "source": [
        "#Q9. Write Python program that converts Centigrade to Fahrenheit. \n"
      ],
      "metadata": {
        "id": "jnNhKz7rJ_uZ"
      }
    },
    {
      "cell_type": "code",
      "source": [
        "#PROGRAM\n",
        "cen = int(input(\"Enter centigrade : \"))\n",
        "fah = (cen * 9/5) + 32\n",
        "print(f\"{cen}°C - {fah}°F\")\n",
        "\n",
        "#OUTPUT"
      ],
      "metadata": {
        "colab": {
          "base_uri": "https://localhost:8080/"
        },
        "id": "6oL1xN_SRtvx",
        "outputId": "e521da74-7522-4548-da87-41e3f7f05193"
      },
      "execution_count": null,
      "outputs": [
        {
          "output_type": "stream",
          "name": "stdout",
          "text": [
            "Enter centigrade : 37\n",
            "37°C - 98.6°F\n"
          ]
        }
      ]
    },
    {
      "cell_type": "markdown",
      "source": [
        "#Q10. Write a Python program that converts kilometers per hour to miles per hour \n",
        "**Expected Output :**\n",
        "\n",
        "Input kilometers per hour: 15 \n",
        "\n",
        "9.320568 miles per hour\n"
      ],
      "metadata": {
        "id": "v2sla7NeWeTy"
      }
    },
    {
      "cell_type": "code",
      "source": [
        "#PROGRAM\n",
        "km = int(input('Input kilometers per hour: '))\n",
        "mile = km * 0.6213711922\n",
        "print(\"{:.6f} miles per hour\".format(mile))\n",
        "\n",
        "#OUTPUT"
      ],
      "metadata": {
        "colab": {
          "base_uri": "https://localhost:8080/"
        },
        "id": "PngZLEYpXV6x",
        "outputId": "c213eb14-5f37-4b1d-802b-4ab27a7c1331"
      },
      "execution_count": null,
      "outputs": [
        {
          "output_type": "stream",
          "name": "stdout",
          "text": [
            "Input kilometers per hour: 15\n",
            "9.320568 miles per hour\n"
          ]
        }
      ]
    },
    {
      "cell_type": "markdown",
      "source": [
        "#Q11. Write a Python program to check two given integers, and print true if one of them is 30 or if their sum is 30 else print false. "
      ],
      "metadata": {
        "id": "885IqJJ7a9Iw"
      }
    },
    {
      "cell_type": "code",
      "source": [
        "#PROGRAM\n",
        "num1 = int(input(\"Input first number: \"))\n",
        "num2 = int(input(\"Input second number: \"))\n",
        "sum = num1+num2\n",
        "if (num1==30 or num2==30 or sum==30):\n",
        "  print(True)\n",
        "else:\n",
        "  print(False)\n",
        "  \n",
        "#OUTPUT"
      ],
      "metadata": {
        "id": "tsUnuiZva6jJ",
        "colab": {
          "base_uri": "https://localhost:8080/"
        },
        "outputId": "8428dfec-7441-4652-e4a9-e1423fa25c34"
      },
      "execution_count": null,
      "outputs": [
        {
          "output_type": "stream",
          "name": "stdout",
          "text": [
            "Input first number: 15\n",
            "Input second number: 24\n",
            "False\n"
          ]
        }
      ]
    },
    {
      "cell_type": "markdown",
      "source": [
        "#Q12. Write a Python program that takes hours and minutes as input, and calculates the  totalnumber of minutes"
      ],
      "metadata": {
        "id": "bupZo1ZFbPS-"
      }
    },
    {
      "cell_type": "code",
      "source": [
        "#PROGRAM\n",
        "hours = int(input(\"Input hours: \"))\n",
        "minutes = int(input(\"Input minutes: \"))\n",
        "totalminutes = (hours*60)+minutes\n",
        "print(\"totalminuts: \",totalminutes)\n",
        "\n",
        "#OUTPUT"
      ],
      "metadata": {
        "id": "2iTka7bmbX_7",
        "colab": {
          "base_uri": "https://localhost:8080/"
        },
        "outputId": "631b65b9-f1a2-4b1f-c18c-3ff7bbc639e7"
      },
      "execution_count": null,
      "outputs": [
        {
          "output_type": "stream",
          "name": "stdout",
          "text": [
            "Input hours: 5\n",
            "Input minutes: 37\n",
            "totalminuts:  337\n"
          ]
        }
      ]
    },
    {
      "cell_type": "markdown",
      "source": [
        "#Q13. Write a Python program to integral quotient and remainder of a division \n",
        "Input numerator : 2500 \n",
        "\n",
        "Input denominator : 235 \n",
        "\n",
        "quotient = 10,  \n",
        "\n",
        "remainder = 150\n"
      ],
      "metadata": {
        "id": "Um1X7HwVbYge"
      }
    },
    {
      "cell_type": "code",
      "source": [
        "#PROGRAM\n",
        "nume = int(input(\"Input numerator : \"))\n",
        "deno = int(input(\"Input denominator : \"))\n",
        "quo = nume//deno\n",
        "rem = nume%deno\n",
        "print(\"quotient = \",quo)\n",
        "print(\"remainder = \",rem)\n",
        "\n",
        "#OUTPUT"
      ],
      "metadata": {
        "colab": {
          "base_uri": "https://localhost:8080/"
        },
        "id": "YkjpTmRdbmrC",
        "outputId": "1093937a-25f4-492c-fa75-7faa310676b4"
      },
      "execution_count": null,
      "outputs": [
        {
          "output_type": "stream",
          "name": "stdout",
          "text": [
            "Input numerator : 2500\n",
            "Input denominator : 235\n",
            "quotient =  10\n",
            "remainder =  150\n"
          ]
        }
      ]
    },
    {
      "cell_type": "markdown",
      "source": [
        "#Q14. What are the benefits of using Python?\n",
        "**Ans.** \n",
        "*   **Third-Party Modules** - \n",
        "Python Package Index (PyPI) comprises a multitude of third-party modules which makes Python integrate with other languages and platforms easily.\n",
        " \n",
        "*   **Presence of Libraries** - \n",
        "The presence of these libraries essentially helps in reducing the code to be written by the programmer.\n",
        "\n",
        "*   **Open Source and free** - \n",
        "Python is free for use even for commercial purposes. Moreover, active developers can contribute by developing modules and appending them to the existing library.\n",
        "\n",
        "*   **Easy to learn** - \n",
        "Python is popular for its excellent readability. This means, even a non-programmer can read and comprehend the uncluttered syntax.\n",
        "\n",
        "*   **User-Friendly data structures** - \n",
        "With its built-in data structures, Python can easily construct run-time data structures including Arrays, Lists, tuples, and Files. \n",
        "\n",
        "*   **Speed** -\n",
        "Being expressive and with object-oriented design, Python contributes to increased speed and productivity even with less amount of coding."
      ],
      "metadata": {
        "id": "Nh-3anwpMioe"
      }
    },
    {
      "cell_type": "markdown",
      "source": [
        "#Q15. What are Keywords in Python?\n",
        "**Ans.**\n",
        "**Python Keywords -**\n",
        "\n",
        "Python Keywords are special reserved words that convey a special meaning to the compiler/interpreter. Each keyword has a special meaning and a specific operation. These keywords can't be used as a variable.\n",
        "\n",
        "*Following is the List of Python Keywords -*\n",
        "\n",
        "```\n",
        "True,\tFalse,\tNone,\tand,\tas,\n",
        "asset,\tdef,\tclass,\tcontinue,\tbreak,\n",
        "else,\tfinally,\telif,\tdel,\texcept\n",
        "global,\tfor,\tif,\tfrom,\timport,\n",
        "raise,\ttry,\tor,\treturn,\tpass,\n",
        "nonlocal,\tin,\tnot,\tis,\tlambda.\n",
        "```\n",
        "\n",
        "\n",
        "\n"
      ],
      "metadata": {
        "id": "VAAACxMrMljh"
      }
    },
    {
      "cell_type": "markdown",
      "source": [
        "#Q16. What are Literals in Python and explain about different Literals?\n",
        "**Ans.**\n",
        "\n",
        "**Literals in Python**\n",
        "\n",
        "Generally, literals are a notation for representing a fixed value in source code. They can also be defined as raw value or data given in variables or constants. \n",
        "\n",
        "**Python has different types of literals.**\n",
        "```\n",
        "String literals\n",
        "Numeric literals\n",
        "Boolean literals\n",
        "Literal Collections\n",
        "Special literals\n",
        "```\n",
        "**String literals**\n",
        "\n",
        "A string literal can be created by writing a text(a group of Characters ) surrounded by the single(”), double(“”), or triple quotes.  By using triple quotes we can write multi-line strings or display in the desired way. \n",
        "\n",
        "Example:\n",
        "\n",
        "\n",
        "\n"
      ],
      "metadata": {
        "id": "_tQrO8uqMmH2"
      }
    },
    {
      "cell_type": "code",
      "source": [
        "# string literals\n",
        "\n",
        "# in single quote\n",
        "s = 'Harshit Dalal'\n",
        "\n",
        "# in double quotes\n",
        "t = \"Harshit Dalal\"\n",
        "\n",
        "# multi-line String\n",
        "m = '''Harshit\n",
        "    Vipin\n",
        "    Dalal'''\n",
        "\n",
        "print(s)\n",
        "print(t)\n",
        "print(m)\n",
        "\n",
        "#Output"
      ],
      "metadata": {
        "colab": {
          "base_uri": "https://localhost:8080/"
        },
        "id": "qZXwXjt2EDW4",
        "outputId": "ab83181b-89ab-4d07-bfcf-7ff8ceb7d56e"
      },
      "execution_count": null,
      "outputs": [
        {
          "output_type": "stream",
          "name": "stdout",
          "text": [
            "Harshit Dalal\n",
            "Harshit Dalal\n",
            "Harshit\n",
            "    Vipin\n",
            "    Dalal\n"
          ]
        }
      ]
    },
    {
      "cell_type": "markdown",
      "source": [
        "**Character literal**\n",
        "\n",
        "It is also a type of string literals where a single character surrounded by single or double-quotes.\n",
        "\n",
        "Example:\n"
      ],
      "metadata": {
        "id": "HLi1-32cEi1v"
      }
    },
    {
      "cell_type": "code",
      "source": [
        "# character literal in single quote\n",
        "v = 'n'\n",
        " \n",
        "# character literal in double quotes\n",
        "w = \"a\"\n",
        " \n",
        "print(v)\n",
        "print(w)\n",
        "\n",
        "#Output"
      ],
      "metadata": {
        "colab": {
          "base_uri": "https://localhost:8080/"
        },
        "id": "7QrLlPygEwvo",
        "outputId": "6ed983cc-b6f7-4ce9-86f4-068b3190ec3a"
      },
      "execution_count": null,
      "outputs": [
        {
          "output_type": "stream",
          "name": "stdout",
          "text": [
            "n\n",
            "a\n"
          ]
        }
      ]
    },
    {
      "cell_type": "markdown",
      "source": [
        "**Numeric literals**\n",
        "They are  immutable and there are three types of numeric literal : \n",
        "\n",
        "Integer\n",
        "Float\n",
        "Complex.\n",
        "\n",
        "**Integer :**\n",
        "\n",
        "Both positive and negative numbers including 0. There should not be any fractional part.\n",
        "\n",
        "Example:"
      ],
      "metadata": {
        "id": "OdPLkJq5E8hB"
      }
    },
    {
      "cell_type": "code",
      "source": [
        "# integer literal\n",
        " \n",
        "# Binary Literals\n",
        "a = 0b10100\n",
        " \n",
        "# Decimal Literal\n",
        "b = 50\n",
        " \n",
        "# Octal Literal\n",
        "c = 0o320\n",
        " \n",
        "# Hexadecimal Literal\n",
        "d = 0x12b\n",
        " \n",
        "print(a, b, c, d)\n",
        "\n",
        "#Output"
      ],
      "metadata": {
        "colab": {
          "base_uri": "https://localhost:8080/"
        },
        "id": "LcbBnpV5FTfp",
        "outputId": "cb7da466-03df-4f0f-83d1-4ce516369d5f"
      },
      "execution_count": null,
      "outputs": [
        {
          "output_type": "stream",
          "name": "stdout",
          "text": [
            "20 50 208 299\n"
          ]
        }
      ]
    },
    {
      "cell_type": "markdown",
      "source": [
        "**Float**\n",
        "\n",
        "These are real numbers having both integer and fractional parts.\n",
        "\n",
        "Example:"
      ],
      "metadata": {
        "id": "yL1EvPu6Fb-e"
      }
    },
    {
      "cell_type": "code",
      "source": [
        "# Float Literal\n",
        "e = 24.8\n",
        "f = 45.0\n",
        " \n",
        "print(e, f)\n",
        "\n",
        "#Output"
      ],
      "metadata": {
        "colab": {
          "base_uri": "https://localhost:8080/"
        },
        "id": "VBJfYLQTFlMG",
        "outputId": "8de508bb-0b44-4c51-8f8f-7abdc258f5ae"
      },
      "execution_count": null,
      "outputs": [
        {
          "output_type": "stream",
          "name": "stdout",
          "text": [
            "24.8 45.0\n"
          ]
        }
      ]
    },
    {
      "cell_type": "markdown",
      "source": [
        "**Complex Literal**\n",
        "\n",
        "The numerals will be in the form of a + bj, where ‘a‘ is the real part and ‘b‘ is the complex part.\n",
        "\n",
        "Example:"
      ],
      "metadata": {
        "id": "tGQvAP_6Fq22"
      }
    },
    {
      "cell_type": "code",
      "source": [
        "z = 7 + 5j\n",
        " \n",
        "# real part is 0 here.\n",
        "k = 7j\n",
        " \n",
        "print(z, k)\n",
        "\n",
        "#Output"
      ],
      "metadata": {
        "colab": {
          "base_uri": "https://localhost:8080/"
        },
        "id": "H_RaumF9F1Wd",
        "outputId": "288790a0-7362-4541-ad7a-925faa0c63e2"
      },
      "execution_count": null,
      "outputs": [
        {
          "output_type": "stream",
          "name": "stdout",
          "text": [
            "(7+5j) 7j\n"
          ]
        }
      ]
    },
    {
      "cell_type": "markdown",
      "source": [
        "**Boolean literals**\n",
        "There are only two Boolean literals in Python. They are true and false.\n",
        "\n",
        "Example:"
      ],
      "metadata": {
        "id": "2UJFyErWF_bN"
      }
    },
    {
      "cell_type": "code",
      "source": [
        "a = (1 == True)\n",
        "b = (1 == False)\n",
        "c = True + 3\n",
        "d = False + 7\n",
        " \n",
        "print(\"a is\", a)\n",
        "print(\"b is\", b)\n",
        "print(\"c:\", c)\n",
        "print(\"d:\", d)\n",
        "\n",
        "#Output"
      ],
      "metadata": {
        "colab": {
          "base_uri": "https://localhost:8080/"
        },
        "id": "NKv8b475GLdP",
        "outputId": "786c1905-6a26-45c3-96c6-bddd0141157a"
      },
      "execution_count": null,
      "outputs": [
        {
          "output_type": "stream",
          "name": "stdout",
          "text": [
            "a is True\n",
            "b is False\n",
            "c: 4\n",
            "d: 7\n"
          ]
        }
      ]
    },
    {
      "cell_type": "markdown",
      "source": [
        "Literal Collections\n",
        "There are four different types of literal collections\n",
        "```\n",
        "List literals\n",
        "Tuple literals\n",
        "Dict literals\n",
        "Set literals\n",
        "```\n",
        "**List literals**\n",
        "\n",
        "List contains items of different data types. The values stored in List are separated by comma (,) and enclosed within square brackets([]). We can store different types of data in a List. Lists are mutable.\n",
        "\n",
        "Example : "
      ],
      "metadata": {
        "id": "eNRjbcPgGO-X"
      }
    },
    {
      "cell_type": "code",
      "source": [
        "# List literals\n",
        "number = [1, 2, 3, 4, 5]\n",
        "name = ['Amit', 'kabir', 'bhaskar', 2]\n",
        "print(number)\n",
        "print(name)\n",
        "\n",
        "#Output"
      ],
      "metadata": {
        "colab": {
          "base_uri": "https://localhost:8080/"
        },
        "id": "Px0-CLb9GsOW",
        "outputId": "712b5e30-1596-468a-9865-6a6627a1b642"
      },
      "execution_count": null,
      "outputs": [
        {
          "output_type": "stream",
          "name": "stdout",
          "text": [
            "[1, 2, 3, 4, 5]\n",
            "['Amit', 'kabir', 'bhaskar', 2]\n"
          ]
        }
      ]
    },
    {
      "cell_type": "markdown",
      "source": [
        "**Tuple literals**\n",
        "\n",
        "A tuple is a collection of different data-type.  It is enclosed by the parentheses ‘()‘ and each element is separated by the comma(,). It is immutable.\n",
        "\n",
        "Example: "
      ],
      "metadata": {
        "id": "MbVNQYGWGvfH"
      }
    },
    {
      "cell_type": "code",
      "source": [
        "# Tuple literals\n",
        "even_number = (2, 4, 6, 8)\n",
        "comb = (1, \"Amit\", 5, \"Jay\")\n",
        " \n",
        "print(even_number)\n",
        "print(comb)\n",
        "\n",
        "#Output"
      ],
      "metadata": {
        "colab": {
          "base_uri": "https://localhost:8080/"
        },
        "id": "JO_yuyn_G5qm",
        "outputId": "868adac5-a15d-4030-ca1f-185a041b9bc3"
      },
      "execution_count": null,
      "outputs": [
        {
          "output_type": "stream",
          "name": "stdout",
          "text": [
            "(2, 4, 6, 8)\n",
            "(1, 'Amit', 5, 'Jay')\n"
          ]
        }
      ]
    },
    {
      "cell_type": "markdown",
      "source": [
        "**Dictionary literals**\n",
        "\n",
        "Dictionary stores the data in the key-value pair. It is enclosed by curly-braces ‘{}‘ and each pair is separated by the commas(,).  We can store different types of data in a dictionary. Dictionaries are mutable.\n",
        "\n",
        "Example: "
      ],
      "metadata": {
        "id": "0aWdLadjHJtV"
      }
    },
    {
      "cell_type": "code",
      "source": [
        "# Dict literals\n",
        "alphabets = {'a': 'apple', 'b': 'ball', 'c': 'cat'}\n",
        "information = {'name': 'amit', 'age': 20, 'ID': 20}\n",
        " \n",
        "print(alphabets)\n",
        "print(information)\n",
        "\n",
        "#Output"
      ],
      "metadata": {
        "colab": {
          "base_uri": "https://localhost:8080/"
        },
        "id": "5gOaxqJFHTFN",
        "outputId": "3d18f875-14b5-4d9d-b556-46e3ccec274c"
      },
      "execution_count": null,
      "outputs": [
        {
          "output_type": "stream",
          "name": "stdout",
          "text": [
            "{'a': 'apple', 'b': 'ball', 'c': 'cat'}\n",
            "{'name': 'amit', 'age': 20, 'ID': 20}\n"
          ]
        }
      ]
    },
    {
      "cell_type": "markdown",
      "source": [
        "**Set literals**\n",
        "\n",
        "Set is the collection of the unordered data set. It is enclosed by the {} and each element is separated by the comma(,).\n",
        "\n",
        "Example: "
      ],
      "metadata": {
        "id": "yfRtcWzJHVs9"
      }
    },
    {
      "cell_type": "code",
      "source": [
        "# Set literals\n",
        "vowels = {'a', 'e', 'i', 'o', 'u'}\n",
        "fruits = {\"apple\", \"banana\", \"cherry\"}\n",
        " \n",
        "print(vowels)\n",
        "print(fruits)\n",
        "\n",
        "#Output"
      ],
      "metadata": {
        "colab": {
          "base_uri": "https://localhost:8080/"
        },
        "id": "e9tyObluHi9u",
        "outputId": "b001bae0-de25-4e96-c9e0-9db6179538b6"
      },
      "execution_count": null,
      "outputs": [
        {
          "output_type": "stream",
          "name": "stdout",
          "text": [
            "{'o', 'i', 'e', 'a', 'u'}\n",
            "{'cherry', 'banana', 'apple'}\n"
          ]
        }
      ]
    },
    {
      "cell_type": "markdown",
      "source": [
        "**Special literals**\n",
        "\n",
        "Python contains one special literal (None). ‘None’ is used to define a null variable. If ‘None’ is compared with anything else other than a ‘None’, it will return false.\n",
        "\n",
        "Example:"
      ],
      "metadata": {
        "id": "SGffmhkjHms2"
      }
    },
    {
      "cell_type": "code",
      "source": [
        "# Special literals\n",
        "water_remain = None\n",
        "print(water_remain)\n",
        "\n",
        "#Output"
      ],
      "metadata": {
        "colab": {
          "base_uri": "https://localhost:8080/"
        },
        "id": "r20PVwK-HzNP",
        "outputId": "fec18375-75e8-4c08-ddb0-d1196c2705a9"
      },
      "execution_count": null,
      "outputs": [
        {
          "output_type": "stream",
          "name": "stdout",
          "text": [
            "None\n"
          ]
        }
      ]
    },
    {
      "cell_type": "markdown",
      "source": [
        "#Q17. How is memory managed in Python?\n",
        "**Ans.**\n",
        "\n",
        "Memory allocation can be defined as allocating a block of space in the computer memory to a program. In Python memory allocation and deallocation method is automatic as the Python developers created a garbage collector for Python so that the user does not have to do manual garbage collection.\n",
        "\n",
        "**Garbage Collection -**\n",
        "\n",
        "Garbage collection is a process in which the interpreter frees up the memory when not in use to make it available for other objects.\n",
        "Assume a case where no reference is pointing to an object in memory i.e. it is not in use so, the virtual machine has a garbage collector that automatically deletes that object from the heap memory\n",
        "\n",
        "**Reference Counting -**\n",
        "\n",
        "Reference counting works by counting the number of times an object is referenced by other objects in the system. When references to an object are removed, the reference count for an object is decremented. When the reference count becomes zero, the object is deallocated.\n",
        "\n",
        "**Memory Allocation in Python -**\n",
        "There are two parts of memory:\n",
        "```\n",
        "stack memory\n",
        "heap memory\n",
        "```\n",
        "\n",
        "\n",
        "The methods/method calls and the references are stored in stack memory and all the values objects are stored in a private heap.\n",
        "\n",
        "**Work of Stack Memory -**\n",
        "\n",
        "The allocation happens on contiguous blocks of memory. We call it stack memory allocation because the allocation happens in the function call stack. The size of memory to be allocated is known to the compiler and whenever a function is called, its variables get memory allocated on the stack.\n",
        "\n",
        "It is the memory that is only needed inside a particular function or method call. When a function is called, it is added onto the program’s call stack. Any local memory assignments such as variable initializations inside the particular functions are stored temporarily on the function call stack, where it is deleted once the function returns, and the call stack moves on to the next task. This allocation onto a contiguous block of memory is handled by the compiler using predefined routines, and developers do not need to worry about it.\n",
        "\n",
        "**Work of Heap Memory -**\n",
        "\n",
        "The memory is allocated during the execution of instructions written by programmers. Note that the name heap has nothing to do with the heap data structure. It is called heap because it is a pile of memory space available to programmers to allocated and de-allocate. The variables are needed outside of method or function calls or are shared within multiple functions globally are stored in Heap memory.\n",
        "\n",
        "\n"
      ],
      "metadata": {
        "id": "GibsV6tgMhRl"
      }
    },
    {
      "cell_type": "markdown",
      "source": [
        "#Q18. What are local variables and global variables in Python?\n",
        "**Ans.**\n",
        "\n",
        "Global variables are those which are not defined inside any function and have a global scope whereas local variables are those which are defined inside a function and its scope is limited to that function only. \n",
        "\n",
        "**Local Variables**\n",
        "\n",
        "Local variables are those which are initialized inside a function and belongs only to that particular function. It cannot be accessed anywhere outside the function. Let’s see how to create a local variable.\n",
        "\n",
        "Example: Creating local variables"
      ],
      "metadata": {
        "id": "wfkOZ6OSMg_Z"
      }
    },
    {
      "cell_type": "code",
      "source": [
        "def f():\n",
        "     \n",
        "    # local variable\n",
        "    s = \"I love Programming\"\n",
        "    print(s)\n",
        " \n",
        "# Driver code\n",
        "f()\n",
        "\n",
        "#Output"
      ],
      "metadata": {
        "colab": {
          "base_uri": "https://localhost:8080/"
        },
        "id": "UU8JasImKmdn",
        "outputId": "6aea0882-018c-411a-d539-85882d0a44c4"
      },
      "execution_count": null,
      "outputs": [
        {
          "output_type": "stream",
          "name": "stdout",
          "text": [
            "I love Programming\n"
          ]
        }
      ]
    },
    {
      "cell_type": "code",
      "source": [
        "\"\"\"If we will try to use this local variable outside the function then let’s see what will happen.\n",
        "Example:\"\"\"\n",
        "def f():\n",
        "    # local variable\n",
        "    he = \"I love Programming\"\n",
        "    print(\"Inside Function:\", he)\n",
        " \n",
        "# Driver code\n",
        "f()\n",
        "print(he)"
      ],
      "metadata": {
        "colab": {
          "base_uri": "https://localhost:8080/",
          "height": 226
        },
        "id": "g7eiuATvLEVe",
        "outputId": "6b4b0ff9-cc0e-4e5a-c81e-80b0f6c7e6d9"
      },
      "execution_count": null,
      "outputs": [
        {
          "output_type": "stream",
          "name": "stdout",
          "text": [
            "Inside Function: I love Programming\n"
          ]
        },
        {
          "output_type": "error",
          "ename": "NameError",
          "evalue": "ignored",
          "traceback": [
            "\u001b[0;31m---------------------------------------------------------------------------\u001b[0m",
            "\u001b[0;31mNameError\u001b[0m                                 Traceback (most recent call last)",
            "\u001b[0;32m<ipython-input-19-2117152400c4>\u001b[0m in \u001b[0;36m<module>\u001b[0;34m()\u001b[0m\n\u001b[1;32m      8\u001b[0m \u001b[0;31m# Driver code\u001b[0m\u001b[0;34m\u001b[0m\u001b[0;34m\u001b[0m\u001b[0;34m\u001b[0m\u001b[0m\n\u001b[1;32m      9\u001b[0m \u001b[0mf\u001b[0m\u001b[0;34m(\u001b[0m\u001b[0;34m)\u001b[0m\u001b[0;34m\u001b[0m\u001b[0;34m\u001b[0m\u001b[0m\n\u001b[0;32m---> 10\u001b[0;31m \u001b[0mprint\u001b[0m\u001b[0;34m(\u001b[0m\u001b[0mhe\u001b[0m\u001b[0;34m)\u001b[0m\u001b[0;34m\u001b[0m\u001b[0;34m\u001b[0m\u001b[0m\n\u001b[0m",
            "\u001b[0;31mNameError\u001b[0m: name 'he' is not defined"
          ]
        }
      ]
    },
    {
      "cell_type": "markdown",
      "source": [
        "#Q19. What is type conversion in Python?\n",
        "**Ans.**\n",
        "\n",
        "The process of converting a Python data type into another data type is known as type conversion. There are mainly two types of type conversion methods in Python, namely, implicit type conversion and explicit type conversion.\n",
        "\n",
        "**Implicit Type Conversion in Python**\n",
        "\n",
        "In Python, when the data type conversion takes place during compilation or during the run time, then it’s called an implicit data type conversion. \n",
        "\n",
        "**Explicit Type Conversion in Python**\n",
        "\n",
        "Explicit type conversion is also known as typecasting. Explicit type conversion takes place when the programmer clearly and explicitly defines the same in the program. \n",
        "\n",
        "#Implicit Type Conversion in Python\n",
        " ```\n",
        "a = 5\n",
        "b = 5.5\n",
        "sum = a + b\n",
        "print (sum)\n",
        "print (type (sum)) #type() is used to display the datatype of a variable\n",
        " ```\n",
        "#Explicit Type Conversion in Python\n",
        "\n",
        "# Adding string and integer data types using explicit type conversion\n",
        "\n",
        "```\n",
        "n1 = 100\n",
        "n2= \"200\"\n",
        "```\n",
        "```\n",
        "#result1 = n1 + n2 \n",
        "```\n",
        "```\n",
        "In above line variable 'n1' is of number type and 'n2' is of String type \n",
        "\n",
        "When we try to add these two integers and store the value in a variable named result1, \n",
        "a Type Error occurs \n",
        "```\n",
        "\n",
        "```\n",
        "So, in order to perform this operation, we have to use explicit type casting.\n",
        "As we can see in the above code block, we have converted the variable n2 into i\n",
        "nt type and then added variables n1 and n2. \n",
        "The sum is stored in the variable named result2, \n",
        "and when printed it displays 300 as output, \n",
        "as we can see in the output block.\n",
        "\n",
        "```\n",
        "```\n",
        "n2= int(n2)\n",
        "result2 = n1 + n2\n",
        "print(result2)\n",
        "```"
      ],
      "metadata": {
        "id": "bJC8DqxJMgok"
      }
    },
    {
      "cell_type": "markdown",
      "source": [
        "#Q20. What is a dynamically typed language?\n",
        "**Ans.**\n",
        "\n",
        "**Dynamically typed language**\n",
        "\n",
        "A language is dynamically typed if the type is associated with run-time values, and not named variables/fields/etc. This means that you as a programmer can write a little quicker because you do not have to specify types every time (unless using a statically-typed language with type inference).\n",
        "\n",
        "*Examples*: Perl, Ruby, Python, PHP, JavaScript, Erlang\n",
        "\n",
        "Most scripting languages have this feature as there is no compiler to do static type-checking anyway, but you may find yourself searching for a bug that is due to the interpreter misinterpreting the type of a variable. Luckily, scripts tend to be small so bugs have not so many places to hide.\n",
        "\n",
        "Most dynamically typed languages do allow you to provide type information, but do not require it. One language that is currently being developed, Rascal, takes a hybrid approach allowing dynamic typing within functions but enforcing static typing for the function signature."
      ],
      "metadata": {
        "id": "02dZFI9DMf2s"
      }
    }
  ]
}